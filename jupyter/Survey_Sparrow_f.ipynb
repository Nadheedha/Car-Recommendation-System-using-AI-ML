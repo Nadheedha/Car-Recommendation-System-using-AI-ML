{
 "cells": [
  {
   "cell_type": "code",
   "execution_count": 3,
   "id": "1b6c9767",
   "metadata": {},
   "outputs": [],
   "source": [
    "import pandas as pd\n",
    "import matplotlib.pyplot as plt\n",
    "df = pd.read_csv(\"ElectricCarData_Clean.csv\")"
   ]
  },
  {
   "cell_type": "code",
   "execution_count": 4,
   "id": "7804f747",
   "metadata": {},
   "outputs": [
    {
     "data": {
      "text/html": [
       "<div>\n",
       "<style scoped>\n",
       "    .dataframe tbody tr th:only-of-type {\n",
       "        vertical-align: middle;\n",
       "    }\n",
       "\n",
       "    .dataframe tbody tr th {\n",
       "        vertical-align: top;\n",
       "    }\n",
       "\n",
       "    .dataframe thead th {\n",
       "        text-align: right;\n",
       "    }\n",
       "</style>\n",
       "<table border=\"1\" class=\"dataframe\">\n",
       "  <thead>\n",
       "    <tr style=\"text-align: right;\">\n",
       "      <th></th>\n",
       "      <th>Brand</th>\n",
       "      <th>Model</th>\n",
       "      <th>AccelSec</th>\n",
       "      <th>TopSpeed_KmH</th>\n",
       "      <th>Range_Km</th>\n",
       "      <th>Efficiency_WhKm</th>\n",
       "      <th>FastCharge_KmH</th>\n",
       "      <th>RapidCharge</th>\n",
       "      <th>PowerTrain</th>\n",
       "      <th>PlugType</th>\n",
       "      <th>BodyStyle</th>\n",
       "      <th>Segment</th>\n",
       "      <th>Seats</th>\n",
       "      <th>PriceEuro</th>\n",
       "    </tr>\n",
       "  </thead>\n",
       "  <tbody>\n",
       "    <tr>\n",
       "      <th>0</th>\n",
       "      <td>Tesla</td>\n",
       "      <td>Model 3 Long Range Dual Motor</td>\n",
       "      <td>4.6</td>\n",
       "      <td>233</td>\n",
       "      <td>450</td>\n",
       "      <td>161</td>\n",
       "      <td>940</td>\n",
       "      <td>Yes</td>\n",
       "      <td>AWD</td>\n",
       "      <td>Type 2 CCS</td>\n",
       "      <td>Sedan</td>\n",
       "      <td>D</td>\n",
       "      <td>5</td>\n",
       "      <td>55480</td>\n",
       "    </tr>\n",
       "    <tr>\n",
       "      <th>1</th>\n",
       "      <td>Volkswagen</td>\n",
       "      <td>ID.3 Pure</td>\n",
       "      <td>10.0</td>\n",
       "      <td>160</td>\n",
       "      <td>270</td>\n",
       "      <td>167</td>\n",
       "      <td>250</td>\n",
       "      <td>Yes</td>\n",
       "      <td>RWD</td>\n",
       "      <td>Type 2 CCS</td>\n",
       "      <td>Hatchback</td>\n",
       "      <td>C</td>\n",
       "      <td>5</td>\n",
       "      <td>30000</td>\n",
       "    </tr>\n",
       "    <tr>\n",
       "      <th>2</th>\n",
       "      <td>Polestar</td>\n",
       "      <td>2</td>\n",
       "      <td>4.7</td>\n",
       "      <td>210</td>\n",
       "      <td>400</td>\n",
       "      <td>181</td>\n",
       "      <td>620</td>\n",
       "      <td>Yes</td>\n",
       "      <td>AWD</td>\n",
       "      <td>Type 2 CCS</td>\n",
       "      <td>Liftback</td>\n",
       "      <td>D</td>\n",
       "      <td>5</td>\n",
       "      <td>56440</td>\n",
       "    </tr>\n",
       "    <tr>\n",
       "      <th>3</th>\n",
       "      <td>BMW</td>\n",
       "      <td>iX3</td>\n",
       "      <td>6.8</td>\n",
       "      <td>180</td>\n",
       "      <td>360</td>\n",
       "      <td>206</td>\n",
       "      <td>560</td>\n",
       "      <td>Yes</td>\n",
       "      <td>RWD</td>\n",
       "      <td>Type 2 CCS</td>\n",
       "      <td>SUV</td>\n",
       "      <td>D</td>\n",
       "      <td>5</td>\n",
       "      <td>68040</td>\n",
       "    </tr>\n",
       "    <tr>\n",
       "      <th>4</th>\n",
       "      <td>Honda</td>\n",
       "      <td>e</td>\n",
       "      <td>9.5</td>\n",
       "      <td>145</td>\n",
       "      <td>170</td>\n",
       "      <td>168</td>\n",
       "      <td>190</td>\n",
       "      <td>Yes</td>\n",
       "      <td>RWD</td>\n",
       "      <td>Type 2 CCS</td>\n",
       "      <td>Hatchback</td>\n",
       "      <td>B</td>\n",
       "      <td>4</td>\n",
       "      <td>32997</td>\n",
       "    </tr>\n",
       "  </tbody>\n",
       "</table>\n",
       "</div>"
      ],
      "text/plain": [
       "         Brand                          Model  AccelSec  TopSpeed_KmH  \\\n",
       "0       Tesla   Model 3 Long Range Dual Motor       4.6           233   \n",
       "1  Volkswagen                       ID.3 Pure      10.0           160   \n",
       "2    Polestar                               2       4.7           210   \n",
       "3         BMW                            iX3        6.8           180   \n",
       "4       Honda                              e        9.5           145   \n",
       "\n",
       "   Range_Km  Efficiency_WhKm FastCharge_KmH RapidCharge PowerTrain  \\\n",
       "0       450              161            940         Yes        AWD   \n",
       "1       270              167            250         Yes        RWD   \n",
       "2       400              181            620         Yes        AWD   \n",
       "3       360              206            560         Yes        RWD   \n",
       "4       170              168            190         Yes        RWD   \n",
       "\n",
       "     PlugType  BodyStyle Segment  Seats  PriceEuro  \n",
       "0  Type 2 CCS      Sedan       D      5      55480  \n",
       "1  Type 2 CCS  Hatchback       C      5      30000  \n",
       "2  Type 2 CCS   Liftback       D      5      56440  \n",
       "3  Type 2 CCS        SUV       D      5      68040  \n",
       "4  Type 2 CCS  Hatchback       B      4      32997  "
      ]
     },
     "execution_count": 4,
     "metadata": {},
     "output_type": "execute_result"
    }
   ],
   "source": [
    "df.head()"
   ]
  },
  {
   "cell_type": "code",
   "execution_count": 5,
   "id": "c887c3ea",
   "metadata": {},
   "outputs": [
    {
     "data": {
      "text/html": [
       "<div>\n",
       "<style scoped>\n",
       "    .dataframe tbody tr th:only-of-type {\n",
       "        vertical-align: middle;\n",
       "    }\n",
       "\n",
       "    .dataframe tbody tr th {\n",
       "        vertical-align: top;\n",
       "    }\n",
       "\n",
       "    .dataframe thead th {\n",
       "        text-align: right;\n",
       "    }\n",
       "</style>\n",
       "<table border=\"1\" class=\"dataframe\">\n",
       "  <thead>\n",
       "    <tr style=\"text-align: right;\">\n",
       "      <th></th>\n",
       "      <th>Brand</th>\n",
       "      <th>TopSpeed</th>\n",
       "      <th>FastCharge</th>\n",
       "      <th>Efficiency</th>\n",
       "      <th>BodyStyle</th>\n",
       "      <th>Seats</th>\n",
       "      <th>PriceEuro</th>\n",
       "    </tr>\n",
       "  </thead>\n",
       "  <tbody>\n",
       "    <tr>\n",
       "      <th>0</th>\n",
       "      <td>Tesla</td>\n",
       "      <td>233</td>\n",
       "      <td>940</td>\n",
       "      <td>161</td>\n",
       "      <td>Sedan</td>\n",
       "      <td>5</td>\n",
       "      <td>55480</td>\n",
       "    </tr>\n",
       "    <tr>\n",
       "      <th>1</th>\n",
       "      <td>Volkswagen</td>\n",
       "      <td>160</td>\n",
       "      <td>250</td>\n",
       "      <td>167</td>\n",
       "      <td>Hatchback</td>\n",
       "      <td>5</td>\n",
       "      <td>30000</td>\n",
       "    </tr>\n",
       "    <tr>\n",
       "      <th>2</th>\n",
       "      <td>Polestar</td>\n",
       "      <td>210</td>\n",
       "      <td>620</td>\n",
       "      <td>181</td>\n",
       "      <td>Liftback</td>\n",
       "      <td>5</td>\n",
       "      <td>56440</td>\n",
       "    </tr>\n",
       "    <tr>\n",
       "      <th>3</th>\n",
       "      <td>BMW</td>\n",
       "      <td>180</td>\n",
       "      <td>560</td>\n",
       "      <td>206</td>\n",
       "      <td>SUV</td>\n",
       "      <td>5</td>\n",
       "      <td>68040</td>\n",
       "    </tr>\n",
       "    <tr>\n",
       "      <th>4</th>\n",
       "      <td>Honda</td>\n",
       "      <td>145</td>\n",
       "      <td>190</td>\n",
       "      <td>168</td>\n",
       "      <td>Hatchback</td>\n",
       "      <td>4</td>\n",
       "      <td>32997</td>\n",
       "    </tr>\n",
       "  </tbody>\n",
       "</table>\n",
       "</div>"
      ],
      "text/plain": [
       "         Brand  TopSpeed FastCharge  Efficiency  BodyStyle  Seats  PriceEuro\n",
       "0       Tesla        233        940         161      Sedan      5      55480\n",
       "1  Volkswagen        160        250         167  Hatchback      5      30000\n",
       "2    Polestar        210        620         181   Liftback      5      56440\n",
       "3         BMW        180        560         206        SUV      5      68040\n",
       "4       Honda        145        190         168  Hatchback      4      32997"
      ]
     },
     "execution_count": 5,
     "metadata": {},
     "output_type": "execute_result"
    }
   ],
   "source": [
    "df = df[[\"Brand\", \"TopSpeed_KmH\",\"FastCharge_KmH\", \"Efficiency_WhKm\", \"BodyStyle\",\"Seats\", \"PriceEuro\"]]\n",
    "df = df.rename({\"Efficiency_WhKm\": \"Efficiency\"}, axis=1)\n",
    "df = df.rename({\"TopSpeed_KmH\": \"TopSpeed\"}, axis=1)\n",
    "df = df.rename({\"FastCharge_KmH\": \"FastCharge\"}, axis=1)\n",
    "df.head()"
   ]
  },
  {
   "cell_type": "code",
   "execution_count": 6,
   "id": "b842f25a",
   "metadata": {},
   "outputs": [
    {
     "name": "stdout",
     "output_type": "stream",
     "text": [
      "<class 'pandas.core.frame.DataFrame'>\n",
      "RangeIndex: 103 entries, 0 to 102\n",
      "Data columns (total 7 columns):\n",
      " #   Column      Non-Null Count  Dtype \n",
      "---  ------      --------------  ----- \n",
      " 0   Brand       103 non-null    object\n",
      " 1   TopSpeed    103 non-null    int64 \n",
      " 2   FastCharge  103 non-null    object\n",
      " 3   Efficiency  103 non-null    int64 \n",
      " 4   BodyStyle   103 non-null    object\n",
      " 5   Seats       103 non-null    int64 \n",
      " 6   PriceEuro   103 non-null    int64 \n",
      "dtypes: int64(4), object(3)\n",
      "memory usage: 5.8+ KB\n"
     ]
    }
   ],
   "source": [
    "df.info()"
   ]
  },
  {
   "cell_type": "code",
   "execution_count": 7,
   "id": "0d592e87",
   "metadata": {},
   "outputs": [
    {
     "data": {
      "text/plain": [
       "Brand         0\n",
       "TopSpeed      0\n",
       "FastCharge    0\n",
       "Efficiency    0\n",
       "BodyStyle     0\n",
       "Seats         0\n",
       "PriceEuro     0\n",
       "dtype: int64"
      ]
     },
     "execution_count": 7,
     "metadata": {},
     "output_type": "execute_result"
    }
   ],
   "source": [
    "df = df.dropna()\n",
    "df.isnull().sum()"
   ]
  },
  {
   "cell_type": "code",
   "execution_count": 8,
   "id": "01e58ba2",
   "metadata": {},
   "outputs": [
    {
     "data": {
      "text/plain": [
       "Tesla          13\n",
       "Audi            9\n",
       "Nissan          8\n",
       "Volkswagen      8\n",
       "Skoda           6\n",
       "Renault         5\n",
       "Porsche         5\n",
       "Kia             5\n",
       "BMW             4\n",
       "Ford            4\n",
       "Smart           3\n",
       "Byton           3\n",
       "Mercedes        3\n",
       "Hyundai         3\n",
       "Opel            3\n",
       "Fiat            2\n",
       "Peugeot         2\n",
       "Honda           2\n",
       "Mini            1\n",
       "DS              1\n",
       "Polestar        1\n",
       "Sono            1\n",
       "Lucid           1\n",
       "Jaguar          1\n",
       "Citroen         1\n",
       "Aiways          1\n",
       "MG              1\n",
       "Lightyear       1\n",
       "SEAT            1\n",
       "CUPRA           1\n",
       "Lexus           1\n",
       "Mazda           1\n",
       "Volvo           1\n",
       "Name: Brand, dtype: int64"
      ]
     },
     "execution_count": 8,
     "metadata": {},
     "output_type": "execute_result"
    }
   ],
   "source": [
    "df['Brand'].value_counts()"
   ]
  },
  {
   "cell_type": "code",
   "execution_count": 9,
   "id": "5d14447f",
   "metadata": {},
   "outputs": [],
   "source": [
    "def shorten_categories(categories, cutoff):\n",
    "    categorical_map = {}\n",
    "    for i in range(len(categories)):\n",
    "        if categories.values[i] >= cutoff:\n",
    "            categorical_map[categories.index[i]] = categories.index[i]\n",
    "        else:\n",
    "            categorical_map[categories.index[i]] = 'Other'\n",
    "    return categorical_map"
   ]
  },
  {
   "cell_type": "code",
   "execution_count": 10,
   "id": "1585fe68",
   "metadata": {},
   "outputs": [
    {
     "data": {
      "text/plain": [
       "Tesla          13\n",
       "Audi            9\n",
       "Nissan          8\n",
       "Volkswagen      8\n",
       "Skoda           6\n",
       "Renault         5\n",
       "Porsche         5\n",
       "Kia             5\n",
       "BMW             4\n",
       "Ford            4\n",
       "Smart           3\n",
       "Byton           3\n",
       "Mercedes        3\n",
       "Hyundai         3\n",
       "Opel            3\n",
       "Fiat            2\n",
       "Peugeot         2\n",
       "Honda           2\n",
       "Mini            1\n",
       "DS              1\n",
       "Polestar        1\n",
       "Sono            1\n",
       "Lucid           1\n",
       "Jaguar          1\n",
       "Citroen         1\n",
       "Aiways          1\n",
       "MG              1\n",
       "Lightyear       1\n",
       "SEAT            1\n",
       "CUPRA           1\n",
       "Lexus           1\n",
       "Mazda           1\n",
       "Volvo           1\n",
       "Name: Brand, dtype: int64"
      ]
     },
     "execution_count": 10,
     "metadata": {},
     "output_type": "execute_result"
    }
   ],
   "source": [
    "Brand_map = shorten_categories(df.Brand.value_counts(), 1)\n",
    "df['Brand'] = df['Brand'].map(Brand_map)\n",
    "df.Brand.value_counts()"
   ]
  },
  {
   "cell_type": "code",
   "execution_count": 11,
   "id": "7dee1b75",
   "metadata": {},
   "outputs": [
    {
     "data": {
      "image/png": "[encoded data removed]",
      "text/plain": [
       "<Figure size 1200x700 with 1 Axes>"
      ]
     },
     "metadata": {},
     "output_type": "display_data"
    }
   ],
   "source": [
    "fig, ax = plt.subplots(1,1, figsize=(12, 7))\n",
    "df.boxplot('Efficiency', 'Brand', ax=ax)\n",
    "plt.suptitle('Efficiency v Brand')\n",
    "plt.title('')\n",
    "plt.ylabel('Efficiency')\n",
    "plt.xticks(rotation=90)\n",
    "plt.show()"
   ]
  },
  {
   "cell_type": "code",
   "execution_count": 12,
   "id": "fdbdc8e1",
   "metadata": {},
   "outputs": [],
   "source": [
    "df = df[df[\"Efficiency\"] <= 500]\n",
    "df = df[df[\"Efficiency\"] >= 50]\n",
    "df = df[df['Brand'] != 'Other']"
   ]
  },
  {
   "cell_type": "code",
   "execution_count": 13,
   "id": "bbf47fda",
   "metadata": {},
   "outputs": [
    {
     "data": {
      "image/png": "[encoded data removed]",
      "text/plain": [
       "<Figure size 1200x700 with 1 Axes>"
      ]
     },
     "metadata": {},
     "output_type": "display_data"
    }
   ],
   "source": [
    "fig, ax = plt.subplots(1,1, figsize=(12, 7))\n",
    "df.boxplot('Efficiency', 'Brand', ax=ax)\n",
    "plt.suptitle('Efficiency v Brand')\n",
    "plt.title('')\n",
    "plt.ylabel('Efficiency')\n",
    "plt.xticks(rotation=90)\n",
    "plt.show()"
   ]
  },
  {
   "cell_type": "code",
   "execution_count": 14,
   "id": "56de7713",
   "metadata": {},
   "outputs": [
    {
     "data": {
      "text/plain": [
       "array([ 55480,  30000,  56440,  68040,  32997, 105000,  31900,  29682,\n",
       "        46380,  55000,  69484,  29234,  40795,  65000,  34459,  40936,\n",
       "       180781,  21421,  31681,  29146,  58620,  35000, 125000,  61480,\n",
       "        45000,  33000,  60437,  38017,  34361,  67358,  38105,  31184,\n",
       "        75000,  32646,  37237,  50000,  33133,  79990,  33971,  81639,\n",
       "        24534,  20129,  36837,  41906, 102945, 149000,  36057,  79445,\n",
       "       215000,  40000,  85990,  35921,  37422,  24790,  96990,  65620,\n",
       "        75351,  54475, 109302,  33246,  38000,  62900,  41526, 150000,\n",
       "        64000,  25500,  34400,  57500,  22030,  54000, 148301,  38987,\n",
       "       102990,  21387,  46900,  70631,  34900,  69551,  47500,  37500,\n",
       "        93800,  24565,  37900,  35575,  53500,  96050,  62000],\n",
       "      dtype=int64)"
      ]
     },
     "execution_count": 14,
     "metadata": {},
     "output_type": "execute_result"
    }
   ],
   "source": [
    "df[\"PriceEuro\"].unique()"
   ]
  },
  {
   "cell_type": "code",
   "execution_count": 15,
   "id": "043e43df",
   "metadata": {},
   "outputs": [
    {
     "data": {
      "text/plain": [
       "array([161, 167, 181, 206, 168, 180, 164, 153, 193, 216, 160, 178, 175,\n",
       "       223, 166, 156, 171, 179, 197, 183, 200, 231, 173, 165, 267, 172,\n",
       "       184, 154, 228, 195, 104, 188, 237, 176, 211, 177, 198, 232, 261,\n",
       "       194, 209, 217, 244, 215, 273, 256, 219, 270, 207, 170, 222, 191,\n",
       "       258, 238], dtype=int64)"
      ]
     },
     "execution_count": 15,
     "metadata": {},
     "output_type": "execute_result"
    }
   ],
   "source": [
    "df[\"Efficiency\"].unique()"
   ]
  },
  {
   "cell_type": "code",
   "execution_count": 17,
   "id": "efb6d6db",
   "metadata": {},
   "outputs": [
    {
     "data": {
      "text/plain": [
       "array([233, 160, 210, 180, 145, 250, 150, 225, 144, 167, 200, 165, 260,\n",
       "       130, 140, 217, 240, 261, 190, 135, 157, 155, 410, 241, 123],\n",
       "      dtype=int64)"
      ]
     },
     "execution_count": 17,
     "metadata": {},
     "output_type": "execute_result"
    }
   ],
   "source": [
    "df[\"TopSpeed\"].unique()\n"
   ]
  },
  {
   "cell_type": "code",
   "execution_count": 18,
   "id": "27b6ade9",
   "metadata": {},
   "outputs": [
    {
     "data": {
      "text/plain": [
       "array([18,  9, 15, 12,  5, 21,  6, 17,  4, 11, 14, 10, 22,  1,  3, 16, 19,\n",
       "       23, 13,  2,  8,  7, 24, 20,  0], dtype=int64)"
      ]
     },
     "execution_count": 18,
     "metadata": {},
     "output_type": "execute_result"
    }
   ],
   "source": [
    "from sklearn.preprocessing import LabelEncoder\n",
    "le_TopSpeed = LabelEncoder()\n",
    "df['TopSpeed'] = le_TopSpeed.fit_transform(df['TopSpeed'])\n",
    "df[\"TopSpeed\"].unique()"
   ]
  },
  {
   "cell_type": "code",
   "execution_count": 19,
   "id": "4f04f632",
   "metadata": {},
   "outputs": [
    {
     "data": {
      "text/plain": [
       "array([50,  7, 36, 32,  2,  4, 19, 37, 30, 21,  5, 16,  3, 34, 42,  1,  8,\n",
       "       49, 44, 47, 26, 24,  9, 22, 14, 38,  6, 17, 33, 35, 13, 39, 48,  0,\n",
       "       31, 46, 29, 20, 45, 18, 41, 23, 15, 43, 25, 10, 12, 40, 28, 11, 27])"
      ]
     },
     "execution_count": 19,
     "metadata": {},
     "output_type": "execute_result"
    }
   ],
   "source": [
    "le_FastCharge = LabelEncoder()\n",
    "df['FastCharge'] = le_FastCharge.fit_transform(df['FastCharge'])\n",
    "df[\"FastCharge\"].unique()"
   ]
  },
  {
   "cell_type": "code",
   "execution_count": 20,
   "id": "ca63c4bd",
   "metadata": {},
   "outputs": [
    {
     "data": {
      "text/plain": [
       "array([7, 1, 2, 6, 4, 3, 0, 5, 8])"
      ]
     },
     "execution_count": 20,
     "metadata": {},
     "output_type": "execute_result"
    }
   ],
   "source": [
    "le_BodyStyle = LabelEncoder()\n",
    "df['BodyStyle'] = le_BodyStyle.fit_transform(df['BodyStyle'])\n",
    "df[\"BodyStyle\"].unique()"
   ]
  },
  {
   "cell_type": "code",
   "execution_count": 21,
   "id": "97e3d8e6",
   "metadata": {},
   "outputs": [
    {
     "data": {
      "text/plain": [
       "array([2, 1, 4, 3, 0], dtype=int64)"
      ]
     },
     "execution_count": 21,
     "metadata": {},
     "output_type": "execute_result"
    }
   ],
   "source": [
    "le_Seats = LabelEncoder()\n",
    "df['Seats'] = le_Seats.fit_transform(df['Seats'])\n",
    "df[\"Seats\"].unique()"
   ]
  },
  {
   "cell_type": "code",
   "execution_count": 22,
   "id": "a947c447",
   "metadata": {},
   "outputs": [
    {
     "data": {
      "text/plain": [
       "array([52, 11, 53, 64, 16, 79, 14, 10, 44, 51, 65,  9, 39, 61, 23, 40, 85,\n",
       "        2, 13,  8, 55, 25, 81, 57, 43, 17, 56, 35, 21, 63, 36, 12, 68, 15,\n",
       "       30, 47, 18, 71, 20, 72,  4,  0, 29, 42, 77, 83, 28, 70, 86, 38, 73,\n",
       "       27, 31,  6, 76, 62, 69, 50, 80, 19, 34, 59, 41, 84, 60,  7, 22, 54,\n",
       "        3, 49, 82, 37, 78,  1, 45, 67, 24, 66, 46, 32, 74,  5, 33, 26, 48,\n",
       "       75, 58], dtype=int64)"
      ]
     },
     "execution_count": 22,
     "metadata": {},
     "output_type": "execute_result"
    }
   ],
   "source": [
    "le_PriceEuro = LabelEncoder()\n",
    "df['PriceEuro'] = le_PriceEuro.fit_transform(df['PriceEuro'])\n",
    "df[\"PriceEuro\"].unique()"
   ]
  },
  {
   "cell_type": "code",
   "execution_count": 23,
   "id": "4e6b2469",
   "metadata": {},
   "outputs": [
    {
     "data": {
      "text/plain": [
       "array([30, 31, 23,  2,  9, 15, 22,  1, 18, 20, 10, 24, 16, 19, 21, 27, 32,\n",
       "       12, 25, 17, 13,  4, 26, 14,  0,  6,  5, 11,  8,  3, 29, 28,  7])"
      ]
     },
     "execution_count": 23,
     "metadata": {},
     "output_type": "execute_result"
    }
   ],
   "source": [
    "le_Brand = LabelEncoder()\n",
    "df['Brand'] = le_Brand.fit_transform(df['Brand'])\n",
    "df[\"Brand\"].unique()"
   ]
  },
  {
   "cell_type": "code",
   "execution_count": 24,
   "id": "23e7601d",
   "metadata": {},
   "outputs": [],
   "source": [
    "X = df.drop(\"Brand\", axis=1)\n",
    "y = df[\"Brand\"]"
   ]
  },
  {
   "cell_type": "code",
   "execution_count": 25,
   "id": "9fd2854e",
   "metadata": {},
   "outputs": [
    {
     "data": {
      "text/html": [
       "<style>#sk-container-id-1 {color: black;background-color: white;}#sk-container-id-1 pre{padding: 0;}#sk-container-id-1 div.sk-toggleable {background-color: white;}#sk-container-id-1 label.sk-toggleable__label {cursor: pointer;display: block;width: 100%;margin-bottom: 0;padding: 0.3em;box-sizing: border-box;text-align: center;}#sk-container-id-1 label.sk-toggleable__label-arrow:before {content: \"▸\";float: left;margin-right: 0.25em;color: #696969;}#sk-container-id-1 label.sk-toggleable__label-arrow:hover:before {color: black;}#sk-container-id-1 div.sk-estimator:hover label.sk-toggleable__label-arrow:before {color: black;}#sk-container-id-1 div.sk-toggleable__content {max-height: 0;max-width: 0;overflow: hidden;text-align: left;background-color: #f0f8ff;}#sk-container-id-1 div.sk-toggleable__content pre {margin: 0.2em;color: black;border-radius: 0.25em;background-color: #f0f8ff;}#sk-container-id-1 input.sk-toggleable__control:checked~div.sk-toggleable__content {max-height: 200px;max-width: 100%;overflow: auto;}#sk-container-id-1 input.sk-toggleable__control:checked~label.sk-toggleable__label-arrow:before {content: \"▾\";}#sk-container-id-1 div.sk-estimator input.sk-toggleable__control:checked~label.sk-toggleable__label {background-color: #d4ebff;}#sk-container-id-1 div.sk-label input.sk-toggleable__control:checked~label.sk-toggleable__label {background-color: #d4ebff;}#sk-container-id-1 input.sk-hidden--visually {border: 0;clip: rect(1px 1px 1px 1px);clip: rect(1px, 1px, 1px, 1px);height: 1px;margin: -1px;overflow: hidden;padding: 0;position: absolute;width: 1px;}#sk-container-id-1 div.sk-estimator {font-family: monospace;background-color: #f0f8ff;border: 1px dotted black;border-radius: 0.25em;box-sizing: border-box;margin-bottom: 0.5em;}#sk-container-id-1 div.sk-estimator:hover {background-color: #d4ebff;}#sk-container-id-1 div.sk-parallel-item::after {content: \"\";width: 100%;border-bottom: 1px solid gray;flex-grow: 1;}#sk-container-id-1 div.sk-label:hover label.sk-toggleable__label {background-color: #d4ebff;}#sk-container-id-1 div.sk-serial::before {content: \"\";position: absolute;border-left: 1px solid gray;box-sizing: border-box;top: 0;bottom: 0;left: 50%;z-index: 0;}#sk-container-id-1 div.sk-serial {display: flex;flex-direction: column;align-items: center;background-color: white;padding-right: 0.2em;padding-left: 0.2em;position: relative;}#sk-container-id-1 div.sk-item {position: relative;z-index: 1;}#sk-container-id-1 div.sk-parallel {display: flex;align-items: stretch;justify-content: center;background-color: white;position: relative;}#sk-container-id-1 div.sk-item::before, #sk-container-id-1 div.sk-parallel-item::before {content: \"\";position: absolute;border-left: 1px solid gray;box-sizing: border-box;top: 0;bottom: 0;left: 50%;z-index: -1;}#sk-container-id-1 div.sk-parallel-item {display: flex;flex-direction: column;z-index: 1;position: relative;background-color: white;}#sk-container-id-1 div.sk-parallel-item:first-child::after {align-self: flex-end;width: 50%;}#sk-container-id-1 div.sk-parallel-item:last-child::after {align-self: flex-start;width: 50%;}#sk-container-id-1 div.sk-parallel-item:only-child::after {width: 0;}#sk-container-id-1 div.sk-dashed-wrapped {border: 1px dashed gray;margin: 0 0.4em 0.5em 0.4em;box-sizing: border-box;padding-bottom: 0.4em;background-color: white;}#sk-container-id-1 div.sk-label label {font-family: monospace;font-weight: bold;display: inline-block;line-height: 1.2em;}#sk-container-id-1 div.sk-label-container {text-align: center;}#sk-container-id-1 div.sk-container {/* jupyter's `normalize.less` sets `[hidden] { display: none; }` but bootstrap.min.css set `[hidden] { display: none !important; }` so we also need the `!important` here to be able to override the default hidden behavior on the sphinx rendered scikit-learn.org. See: https://github.com/scikit-learn/scikit-learn/issues/21755 */display: inline-block !important;position: relative;}#sk-container-id-1 div.sk-text-repr-fallback {display: none;}</style><div id=\"sk-container-id-1\" class=\"sk-top-container\"><div class=\"sk-text-repr-fallback\"><pre>LinearRegression()</pre><b>In a Jupyter environment, please rerun this cell to show the HTML representation or trust the notebook. <br />On GitHub, the HTML representation is unable to render, please try loading this page with nbviewer.org.</b></div><div class=\"sk-container\" hidden><div class=\"sk-item\"><div class=\"sk-estimator sk-toggleable\"><input class=\"sk-toggleable__control sk-hidden--visually\" id=\"sk-estimator-id-1\" type=\"checkbox\" checked><label for=\"sk-estimator-id-1\" class=\"sk-toggleable__label sk-toggleable__label-arrow\">LinearRegression</label><div class=\"sk-toggleable__content\"><pre>LinearRegression()</pre></div></div></div></div></div>"
      ],
      "text/plain": [
       "LinearRegression()"
      ]
     },
     "execution_count": 25,
     "metadata": {},
     "output_type": "execute_result"
    }
   ],
   "source": [
    "from sklearn.linear_model import LinearRegression\n",
    "linear_reg = LinearRegression()\n",
    "linear_reg.fit(X, y)"
   ]
  },
  {
   "cell_type": "code",
   "execution_count": 26,
   "id": "843bbb87",
   "metadata": {},
   "outputs": [],
   "source": [
    "y_pred = linear_reg.predict(X)"
   ]
  },
  {
   "cell_type": "code",
   "execution_count": 27,
   "id": "eaae7278",
   "metadata": {},
   "outputs": [],
   "source": [
    "from sklearn.metrics import mean_squared_error, mean_absolute_error\n",
    "import numpy as np\n",
    "error = np.sqrt(mean_squared_error(y, y_pred))"
   ]
  },
  {
   "cell_type": "code",
   "execution_count": 28,
   "id": "1f80efe8",
   "metadata": {},
   "outputs": [
    {
     "data": {
      "text/plain": [
       "8.642169027576022"
      ]
     },
     "execution_count": 28,
     "metadata": {},
     "output_type": "execute_result"
    }
   ],
   "source": [
    "error"
   ]
  },
  {
   "cell_type": "code",
   "execution_count": 29,
   "id": "ae1d7e5d",
   "metadata": {},
   "outputs": [
    {
     "data": {
      "text/html": [
       "<style>#sk-container-id-2 {color: black;background-color: white;}#sk-container-id-2 pre{padding: 0;}#sk-container-id-2 div.sk-toggleable {background-color: white;}#sk-container-id-2 label.sk-toggleable__label {cursor: pointer;display: block;width: 100%;margin-bottom: 0;padding: 0.3em;box-sizing: border-box;text-align: center;}#sk-container-id-2 label.sk-toggleable__label-arrow:before {content: \"▸\";float: left;margin-right: 0.25em;color: #696969;}#sk-container-id-2 label.sk-toggleable__label-arrow:hover:before {color: black;}#sk-container-id-2 div.sk-estimator:hover label.sk-toggleable__label-arrow:before {color: black;}#sk-container-id-2 div.sk-toggleable__content {max-height: 0;max-width: 0;overflow: hidden;text-align: left;background-color: #f0f8ff;}#sk-container-id-2 div.sk-toggleable__content pre {margin: 0.2em;color: black;border-radius: 0.25em;background-color: #f0f8ff;}#sk-container-id-2 input.sk-toggleable__control:checked~div.sk-toggleable__content {max-height: 200px;max-width: 100%;overflow: auto;}#sk-container-id-2 input.sk-toggleable__control:checked~label.sk-toggleable__label-arrow:before {content: \"▾\";}#sk-container-id-2 div.sk-estimator input.sk-toggleable__control:checked~label.sk-toggleable__label {background-color: #d4ebff;}#sk-container-id-2 div.sk-label input.sk-toggleable__control:checked~label.sk-toggleable__label {background-color: #d4ebff;}#sk-container-id-2 input.sk-hidden--visually {border: 0;clip: rect(1px 1px 1px 1px);clip: rect(1px, 1px, 1px, 1px);height: 1px;margin: -1px;overflow: hidden;padding: 0;position: absolute;width: 1px;}#sk-container-id-2 div.sk-estimator {font-family: monospace;background-color: #f0f8ff;border: 1px dotted black;border-radius: 0.25em;box-sizing: border-box;margin-bottom: 0.5em;}#sk-container-id-2 div.sk-estimator:hover {background-color: #d4ebff;}#sk-container-id-2 div.sk-parallel-item::after {content: \"\";width: 100%;border-bottom: 1px solid gray;flex-grow: 1;}#sk-container-id-2 div.sk-label:hover label.sk-toggleable__label {background-color: #d4ebff;}#sk-container-id-2 div.sk-serial::before {content: \"\";position: absolute;border-left: 1px solid gray;box-sizing: border-box;top: 0;bottom: 0;left: 50%;z-index: 0;}#sk-container-id-2 div.sk-serial {display: flex;flex-direction: column;align-items: center;background-color: white;padding-right: 0.2em;padding-left: 0.2em;position: relative;}#sk-container-id-2 div.sk-item {position: relative;z-index: 1;}#sk-container-id-2 div.sk-parallel {display: flex;align-items: stretch;justify-content: center;background-color: white;position: relative;}#sk-container-id-2 div.sk-item::before, #sk-container-id-2 div.sk-parallel-item::before {content: \"\";position: absolute;border-left: 1px solid gray;box-sizing: border-box;top: 0;bottom: 0;left: 50%;z-index: -1;}#sk-container-id-2 div.sk-parallel-item {display: flex;flex-direction: column;z-index: 1;position: relative;background-color: white;}#sk-container-id-2 div.sk-parallel-item:first-child::after {align-self: flex-end;width: 50%;}#sk-container-id-2 div.sk-parallel-item:last-child::after {align-self: flex-start;width: 50%;}#sk-container-id-2 div.sk-parallel-item:only-child::after {width: 0;}#sk-container-id-2 div.sk-dashed-wrapped {border: 1px dashed gray;margin: 0 0.4em 0.5em 0.4em;box-sizing: border-box;padding-bottom: 0.4em;background-color: white;}#sk-container-id-2 div.sk-label label {font-family: monospace;font-weight: bold;display: inline-block;line-height: 1.2em;}#sk-container-id-2 div.sk-label-container {text-align: center;}#sk-container-id-2 div.sk-container {/* jupyter's `normalize.less` sets `[hidden] { display: none; }` but bootstrap.min.css set `[hidden] { display: none !important; }` so we also need the `!important` here to be able to override the default hidden behavior on the sphinx rendered scikit-learn.org. See: https://github.com/scikit-learn/scikit-learn/issues/21755 */display: inline-block !important;position: relative;}#sk-container-id-2 div.sk-text-repr-fallback {display: none;}</style><div id=\"sk-container-id-2\" class=\"sk-top-container\"><div class=\"sk-text-repr-fallback\"><pre>GridSearchCV(estimator=DecisionTreeRegressor(random_state=0),\n",
       "             param_grid={&#x27;max_depth&#x27;: [None, 2, 4, 6, 8, 10, 12]},\n",
       "             scoring=&#x27;neg_mean_squared_error&#x27;)</pre><b>In a Jupyter environment, please rerun this cell to show the HTML representation or trust the notebook. <br />On GitHub, the HTML representation is unable to render, please try loading this page with nbviewer.org.</b></div><div class=\"sk-container\" hidden><div class=\"sk-item sk-dashed-wrapped\"><div class=\"sk-label-container\"><div class=\"sk-label sk-toggleable\"><input class=\"sk-toggleable__control sk-hidden--visually\" id=\"sk-estimator-id-2\" type=\"checkbox\" ><label for=\"sk-estimator-id-2\" class=\"sk-toggleable__label sk-toggleable__label-arrow\">GridSearchCV</label><div class=\"sk-toggleable__content\"><pre>GridSearchCV(estimator=DecisionTreeRegressor(random_state=0),\n",
       "             param_grid={&#x27;max_depth&#x27;: [None, 2, 4, 6, 8, 10, 12]},\n",
       "             scoring=&#x27;neg_mean_squared_error&#x27;)</pre></div></div></div><div class=\"sk-parallel\"><div class=\"sk-parallel-item\"><div class=\"sk-item\"><div class=\"sk-label-container\"><div class=\"sk-label sk-toggleable\"><input class=\"sk-toggleable__control sk-hidden--visually\" id=\"sk-estimator-id-3\" type=\"checkbox\" ><label for=\"sk-estimator-id-3\" class=\"sk-toggleable__label sk-toggleable__label-arrow\">estimator: DecisionTreeRegressor</label><div class=\"sk-toggleable__content\"><pre>DecisionTreeRegressor(random_state=0)</pre></div></div></div><div class=\"sk-serial\"><div class=\"sk-item\"><div class=\"sk-estimator sk-toggleable\"><input class=\"sk-toggleable__control sk-hidden--visually\" id=\"sk-estimator-id-4\" type=\"checkbox\" ><label for=\"sk-estimator-id-4\" class=\"sk-toggleable__label sk-toggleable__label-arrow\">DecisionTreeRegressor</label><div class=\"sk-toggleable__content\"><pre>DecisionTreeRegressor(random_state=0)</pre></div></div></div></div></div></div></div></div></div></div>"
      ],
      "text/plain": [
       "GridSearchCV(estimator=DecisionTreeRegressor(random_state=0),\n",
       "             param_grid={'max_depth': [None, 2, 4, 6, 8, 10, 12]},\n",
       "             scoring='neg_mean_squared_error')"
      ]
     },
     "execution_count": 29,
     "metadata": {},
     "output_type": "execute_result"
    }
   ],
   "source": [
    "from sklearn.tree import DecisionTreeRegressor\n",
    "from sklearn.model_selection import GridSearchCV\n",
    "\n",
    "max_depth = [None, 2,4,6,8,10,12]\n",
    "parameters = {\"max_depth\": max_depth}\n",
    "\n",
    "regressor = DecisionTreeRegressor(random_state=0)\n",
    "gs = GridSearchCV(regressor, parameters, scoring='neg_mean_squared_error')\n",
    "gs.fit(X, y.values)"
   ]
  },
  {
   "cell_type": "code",
   "execution_count": 30,
   "id": "8282123e",
   "metadata": {},
   "outputs": [
    {
     "name": "stdout",
     "output_type": "stream",
     "text": [
      "5.12\n"
     ]
    }
   ],
   "source": [
    "regressor = gs.best_estimator_\n",
    "\n",
    "regressor.fit(X, y.values)\n",
    "y_pred = regressor.predict(X)\n",
    "error = np.sqrt(mean_squared_error(y, y_pred))\n",
    "print(\"{:,.02f}\".format(error))"
   ]
  },
  {
   "cell_type": "code",
   "execution_count": 31,
   "id": "3523d3c1",
   "metadata": {},
   "outputs": [
    {
     "data": {
      "text/html": [
       "<div>\n",
       "<style scoped>\n",
       "    .dataframe tbody tr th:only-of-type {\n",
       "        vertical-align: middle;\n",
       "    }\n",
       "\n",
       "    .dataframe tbody tr th {\n",
       "        vertical-align: top;\n",
       "    }\n",
       "\n",
       "    .dataframe thead th {\n",
       "        text-align: right;\n",
       "    }\n",
       "</style>\n",
       "<table border=\"1\" class=\"dataframe\">\n",
       "  <thead>\n",
       "    <tr style=\"text-align: right;\">\n",
       "      <th></th>\n",
       "      <th>TopSpeed</th>\n",
       "      <th>FastCharge</th>\n",
       "      <th>Efficiency</th>\n",
       "      <th>BodyStyle</th>\n",
       "      <th>Seats</th>\n",
       "      <th>PriceEuro</th>\n",
       "    </tr>\n",
       "  </thead>\n",
       "  <tbody>\n",
       "    <tr>\n",
       "      <th>0</th>\n",
       "      <td>18</td>\n",
       "      <td>50</td>\n",
       "      <td>161</td>\n",
       "      <td>7</td>\n",
       "      <td>2</td>\n",
       "      <td>52</td>\n",
       "    </tr>\n",
       "    <tr>\n",
       "      <th>1</th>\n",
       "      <td>9</td>\n",
       "      <td>7</td>\n",
       "      <td>167</td>\n",
       "      <td>1</td>\n",
       "      <td>2</td>\n",
       "      <td>11</td>\n",
       "    </tr>\n",
       "    <tr>\n",
       "      <th>2</th>\n",
       "      <td>15</td>\n",
       "      <td>36</td>\n",
       "      <td>181</td>\n",
       "      <td>2</td>\n",
       "      <td>2</td>\n",
       "      <td>53</td>\n",
       "    </tr>\n",
       "    <tr>\n",
       "      <th>3</th>\n",
       "      <td>12</td>\n",
       "      <td>32</td>\n",
       "      <td>206</td>\n",
       "      <td>6</td>\n",
       "      <td>2</td>\n",
       "      <td>64</td>\n",
       "    </tr>\n",
       "    <tr>\n",
       "      <th>4</th>\n",
       "      <td>5</td>\n",
       "      <td>2</td>\n",
       "      <td>168</td>\n",
       "      <td>1</td>\n",
       "      <td>1</td>\n",
       "      <td>16</td>\n",
       "    </tr>\n",
       "    <tr>\n",
       "      <th>...</th>\n",
       "      <td>...</td>\n",
       "      <td>...</td>\n",
       "      <td>...</td>\n",
       "      <td>...</td>\n",
       "      <td>...</td>\n",
       "      <td>...</td>\n",
       "    </tr>\n",
       "    <tr>\n",
       "      <th>98</th>\n",
       "      <td>9</td>\n",
       "      <td>21</td>\n",
       "      <td>191</td>\n",
       "      <td>1</td>\n",
       "      <td>2</td>\n",
       "      <td>43</td>\n",
       "    </tr>\n",
       "    <tr>\n",
       "      <th>99</th>\n",
       "      <td>15</td>\n",
       "      <td>30</td>\n",
       "      <td>258</td>\n",
       "      <td>6</td>\n",
       "      <td>2</td>\n",
       "      <td>75</td>\n",
       "    </tr>\n",
       "    <tr>\n",
       "      <th>100</th>\n",
       "      <td>14</td>\n",
       "      <td>21</td>\n",
       "      <td>194</td>\n",
       "      <td>1</td>\n",
       "      <td>2</td>\n",
       "      <td>47</td>\n",
       "    </tr>\n",
       "    <tr>\n",
       "      <th>101</th>\n",
       "      <td>14</td>\n",
       "      <td>22</td>\n",
       "      <td>232</td>\n",
       "      <td>1</td>\n",
       "      <td>2</td>\n",
       "      <td>61</td>\n",
       "    </tr>\n",
       "    <tr>\n",
       "      <th>102</th>\n",
       "      <td>13</td>\n",
       "      <td>25</td>\n",
       "      <td>238</td>\n",
       "      <td>6</td>\n",
       "      <td>2</td>\n",
       "      <td>58</td>\n",
       "    </tr>\n",
       "  </tbody>\n",
       "</table>\n",
       "<p>103 rows × 6 columns</p>\n",
       "</div>"
      ],
      "text/plain": [
       "     TopSpeed  FastCharge  Efficiency  BodyStyle  Seats  PriceEuro\n",
       "0          18          50         161          7      2         52\n",
       "1           9           7         167          1      2         11\n",
       "2          15          36         181          2      2         53\n",
       "3          12          32         206          6      2         64\n",
       "4           5           2         168          1      1         16\n",
       "..        ...         ...         ...        ...    ...        ...\n",
       "98          9          21         191          1      2         43\n",
       "99         15          30         258          6      2         75\n",
       "100        14          21         194          1      2         47\n",
       "101        14          22         232          1      2         61\n",
       "102        13          25         238          6      2         58\n",
       "\n",
       "[103 rows x 6 columns]"
      ]
     },
     "execution_count": 31,
     "metadata": {},
     "output_type": "execute_result"
    }
   ],
   "source": [
    "X"
   ]
  },
  {
   "cell_type": "code",
   "execution_count": 32,
   "id": "601d766c",
   "metadata": {},
   "outputs": [
    {
     "name": "stdout",
     "output_type": "stream",
     "text": [
      "['Aiways ', 'Audi ', 'BMW ', 'Byton ', 'CUPRA ', 'Citroen ', 'DS ', 'Fiat ', 'Ford ', 'Honda ', 'Hyundai ', 'Jaguar ', 'Kia ', 'Lexus ', 'Lightyear ', 'Lucid ', 'MG ', 'Mazda ', 'Mercedes ', 'Mini ', 'Nissan ', 'Opel ', 'Peugeot ', 'Polestar ', 'Porsche ', 'Renault ', 'SEAT ', 'Skoda ', 'Smart ', 'Sono ', 'Tesla ', 'Volkswagen ', 'Volvo ']\n"
     ]
    }
   ],
   "source": [
    "print(le_Brand.classes_.tolist())"
   ]
  },
  {
   "cell_type": "code",
   "execution_count": 33,
   "id": "0ddeaef7",
   "metadata": {},
   "outputs": [
    {
     "name": "stdout",
     "output_type": "stream",
     "text": [
      "[123, 130, 135, 140, 144, 145, 150, 155, 157, 160, 165, 167, 180, 190, 200, 210, 217, 225, 233, 240, 241, 250, 260, 261, 410]\n"
     ]
    }
   ],
   "source": [
    "print(le_TopSpeed.classes_.tolist())"
   ]
  },
  {
   "cell_type": "code",
   "execution_count": 34,
   "id": "b1c409e1",
   "metadata": {},
   "outputs": [
    {
     "name": "stdout",
     "output_type": "stream",
     "text": [
      "['-', '170', '190', '210', '220', '230', '240', '250', '260', '270', '290', '320', '330', '340', '350', '360', '380', '390', '410', '420', '430', '440', '450', '460', '470', '480', '490', '500', '510', '520', '540', '550', '560', '570', '590', '610', '620', '650', '710', '730', '740', '770', '780', '810', '850', '890', '900', '910', '920', '930', '940']\n"
     ]
    }
   ],
   "source": [
    "print(le_FastCharge.classes_.tolist())"
   ]
  },
  {
   "cell_type": "code",
   "execution_count": 35,
   "id": "c2114e20",
   "metadata": {},
   "outputs": [
    {
     "name": "stdout",
     "output_type": "stream",
     "text": [
      "['Cabrio', 'Hatchback', 'Liftback', 'MPV', 'Pickup', 'SPV', 'SUV', 'Sedan', 'Station']\n"
     ]
    }
   ],
   "source": [
    "print(le_BodyStyle.classes_.tolist())"
   ]
  },
  {
   "cell_type": "code",
   "execution_count": 36,
   "id": "05ec7383",
   "metadata": {},
   "outputs": [
    {
     "name": "stdout",
     "output_type": "stream",
     "text": [
      "[2, 4, 5, 6, 7]\n"
     ]
    }
   ],
   "source": [
    "print(le_Seats.classes_.tolist())"
   ]
  },
  {
   "cell_type": "code",
   "execution_count": 37,
   "id": "cd0c4be8",
   "metadata": {},
   "outputs": [
    {
     "name": "stdout",
     "output_type": "stream",
     "text": [
      "[20129, 21387, 21421, 22030, 24534, 24565, 24790, 25500, 29146, 29234, 29682, 30000, 31184, 31681, 31900, 32646, 32997, 33000, 33133, 33246, 33971, 34361, 34400, 34459, 34900, 35000, 35575, 35921, 36057, 36837, 37237, 37422, 37500, 37900, 38000, 38017, 38105, 38987, 40000, 40795, 40936, 41526, 41906, 45000, 46380, 46900, 47500, 50000, 53500, 54000, 54475, 55000, 55480, 56440, 57500, 58620, 60437, 61480, 62000, 62900, 64000, 65000, 65620, 67358, 68040, 69484, 69551, 70631, 75000, 75351, 79445, 79990, 81639, 85990, 93800, 96050, 96990, 102945, 102990, 105000, 109302, 125000, 148301, 149000, 150000, 180781, 215000]\n"
     ]
    }
   ],
   "source": [
    "print(le_PriceEuro.classes_.tolist())"
   ]
  },
  {
   "cell_type": "code",
   "execution_count": 38,
   "id": "a407ef33",
   "metadata": {},
   "outputs": [],
   "source": [
    "Efficiency = df[\"Efficiency\"]"
   ]
  },
  {
   "cell_type": "code",
   "execution_count": 39,
   "id": "01ee5990",
   "metadata": {},
   "outputs": [
    {
     "data": {
      "text/plain": [
       "array([['135', '250', '180', 'SUV', '5', '38017']], dtype='<U11')"
      ]
     },
     "execution_count": 39,
     "metadata": {},
     "output_type": "execute_result"
    }
   ],
   "source": [
    "X = np.array([[135, '250',180, 'SUV',5,38017]])\n",
    "X"
   ]
  },
  {
   "cell_type": "code",
   "execution_count": 40,
   "id": "9fa2decb",
   "metadata": {},
   "outputs": [
    {
     "data": {
      "text/plain": [
       "array([[  2.,   7., 180.,   6.,   2.,  35.]])"
      ]
     },
     "execution_count": 40,
     "metadata": {},
     "output_type": "execute_result"
    }
   ],
   "source": [
    "X[:, 0] = le_TopSpeed.transform(X[:, 0])\n",
    "X[:, 1] = le_FastCharge.transform(X[:, 1])\n",
    "X[:, 3] = le_BodyStyle.transform(X[:, 3])\n",
    "X[:, 4] = le_Seats.transform(X[:, 4])\n",
    "X[:, 5] = le_PriceEuro.transform(X[:, 5])\n",
    "X = X.astype(float)\n",
    "X "
   ]
  },
  {
   "cell_type": "code",
   "execution_count": 41,
   "id": "b6b45c3c",
   "metadata": {},
   "outputs": [
    {
     "name": "stderr",
     "output_type": "stream",
     "text": [
      "C:\\Users\\ASUS\\anaconda3\\lib\\site-packages\\sklearn\\base.py:439: UserWarning: X does not have valid feature names, but DecisionTreeRegressor was fitted with feature names\n",
      "  warnings.warn(\n"
     ]
    },
    {
     "data": {
      "text/plain": [
       "12"
      ]
     },
     "execution_count": 41,
     "metadata": {},
     "output_type": "execute_result"
    }
   ],
   "source": [
    "y_pred = regressor.predict(X)\n",
    "Z=int(y_pred[0])\n",
    "Z"
   ]
  },
  {
   "cell_type": "code",
   "execution_count": 42,
   "id": "3be80e3d",
   "metadata": {},
   "outputs": [
    {
     "data": {
      "text/plain": [
       "['Kia ']"
      ]
     },
     "execution_count": 42,
     "metadata": {},
     "output_type": "execute_result"
    }
   ],
   "source": [
    "list(le_Brand.inverse_transform([Z]))"
   ]
  },
  {
   "cell_type": "code",
   "execution_count": 43,
   "id": "c2046774",
   "metadata": {},
   "outputs": [],
   "source": [
    "import pickle"
   ]
  },
  {
   "cell_type": "code",
   "execution_count": 44,
   "id": "d40a83e5",
   "metadata": {},
   "outputs": [],
   "source": [
    "data = {\"model\": regressor, \"le_TopSpeed\": le_TopSpeed, \"le_FastCharge\": le_FastCharge,\"Efficiency\":Efficiency,\"le_BodyStyle\":le_BodyStyle,\"le_Seats\":le_Seats ,\"le_PriceEuro\":le_PriceEuro}\n",
    "with open('survey_sparrow.pkl', 'wb') as file:\n",
    "    pickle.dump(data, file)"
   ]
  },
  {
   "cell_type": "code",
   "execution_count": 45,
   "id": "1fea77c3",
   "metadata": {},
   "outputs": [],
   "source": [
    "with open('survey_sparrow.pkl', 'rb') as file:\n",
    "    data = pickle.load(file)\n",
    "\n",
    "regressor_loaded = data[\"model\"]\n",
    "le_TopSpeed = data[\"le_TopSpeed\"]\n",
    "le_FastCharge = data[\"le_FastCharge\"]\n",
    "Efficiency  =  data[\"Efficiency\"]\n",
    "le_BodyStyle = data[\"le_BodyStyle\"]\n",
    "le_Seats = data[\"le_Seats\"]\n",
    "le_PriceEuro = data[\"le_PriceEuro\"]"
   ]
  },
  {
   "cell_type": "code",
   "execution_count": 46,
   "id": "8d5f632f",
   "metadata": {},
   "outputs": [
    {
     "name": "stderr",
     "output_type": "stream",
     "text": [
      "C:\\Users\\ASUS\\anaconda3\\lib\\site-packages\\sklearn\\base.py:439: UserWarning: X does not have valid feature names, but DecisionTreeRegressor was fitted with feature names\n",
      "  warnings.warn(\n"
     ]
    },
    {
     "data": {
      "text/plain": [
       "12.125"
      ]
     },
     "execution_count": 46,
     "metadata": {},
     "output_type": "execute_result"
    }
   ],
   "source": [
    "y_pred = regressor_loaded.predict(X)\n",
    "y_pred[0]"
   ]
  },
  {
   "cell_type": "code",
   "execution_count": 51,
   "id": "27e72c15",
   "metadata": {},
   "outputs": [
    {
     "data": {
      "text/plain": [
       "['Kia ']"
      ]
     },
     "execution_count": 51,
     "metadata": {},
     "output_type": "execute_result"
    }
   ],
   "source": [
    "U=list(le_Brand.inverse_transform([Z]))\n",
    "U"
   ]
  },
  {
   "cell_type": "code",
   "execution_count": 62,
   "id": "feba8a60",
   "metadata": {},
   "outputs": [
    {
     "data": {
      "text/plain": [
       "'Kia '"
      ]
     },
     "execution_count": 62,
     "metadata": {},
     "output_type": "execute_result"
    }
   ],
   "source": [
    "C=U[0]\n",
    "C[0:]\n"
   ]
  },
  {
   "cell_type": "code",
   "execution_count": 175,
   "id": "97694f68",
   "metadata": {},
   "outputs": [
    {
     "data": {
      "text/plain": [
       "[161,\n",
       " 167,\n",
       " 181,\n",
       " 206,\n",
       " 168,\n",
       " 180,\n",
       " 168,\n",
       " 164,\n",
       " 153,\n",
       " 193,\n",
       " 216,\n",
       " 164,\n",
       " 160,\n",
       " 178,\n",
       " 153,\n",
       " 175,\n",
       " 223,\n",
       " 166,\n",
       " 193,\n",
       " 156,\n",
       " 164,\n",
       " 171,\n",
       " 179,\n",
       " 197,\n",
       " 167,\n",
       " 183,\n",
       " 166,\n",
       " 200,\n",
       " 161,\n",
       " 180,\n",
       " 231,\n",
       " 173,\n",
       " 165,\n",
       " 267,\n",
       " 178,\n",
       " 172,\n",
       " 193,\n",
       " 181,\n",
       " 168,\n",
       " 171,\n",
       " 184,\n",
       " 154,\n",
       " 228,\n",
       " 166,\n",
       " 166,\n",
       " 175,\n",
       " 173,\n",
       " 195,\n",
       " 104,\n",
       " 188,\n",
       " 237,\n",
       " 206,\n",
       " 176,\n",
       " 183,\n",
       " 211,\n",
       " 168,\n",
       " 180,\n",
       " 164,\n",
       " 180,\n",
       " 188,\n",
       " 161,\n",
       " 177,\n",
       " 198,\n",
       " 232,\n",
       " 200,\n",
       " 197,\n",
       " 200,\n",
       " 261,\n",
       " 194,\n",
       " 209,\n",
       " 165,\n",
       " 193,\n",
       " 217,\n",
       " 244,\n",
       " 156,\n",
       " 167,\n",
       " 188,\n",
       " 176,\n",
       " 206,\n",
       " 215,\n",
       " 171,\n",
       " 216,\n",
       " 167,\n",
       " 194,\n",
       " 273,\n",
       " 168,\n",
       " 256,\n",
       " 219,\n",
       " 193,\n",
       " 181,\n",
       " 270,\n",
       " 176,\n",
       " 175,\n",
       " 207,\n",
       " 168,\n",
       " 171,\n",
       " 170,\n",
       " 222,\n",
       " 191,\n",
       " 258,\n",
       " 194,\n",
       " 232,\n",
       " 238]"
      ]
     },
     "execution_count": 175,
     "metadata": {},
     "output_type": "execute_result"
    }
   ],
   "source": [
    "list(Efficiency)"
   ]
  },
  {
   "cell_type": "code",
   "execution_count": null,
   "id": "4cfea3f7",
   "metadata": {},
   "outputs": [],
   "source": []
  }
 ],
 "metadata": {
  "kernelspec": {
   "display_name": "ml",
   "language": "python",
   "name": "ml"
  },
  "language_info": {
   "codemirror_mode": {
    "name": "ipython",
    "version": 3
   },
   "file_extension": ".py",
   "mimetype": "text/x-python",
   "name": "python",
   "nbconvert_exporter": "python",
   "pygments_lexer": "ipython3",
   "version": "3.10.9"
  }
 },
 "nbformat": 4,
 "nbformat_minor": 5
}
